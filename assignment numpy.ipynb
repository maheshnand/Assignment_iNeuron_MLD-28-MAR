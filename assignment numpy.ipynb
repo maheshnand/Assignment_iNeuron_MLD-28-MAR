{
 "cells": [
  {
   "cell_type": "markdown",
   "metadata": {},
   "source": [
    "## Assignment  Numpy"
   ]
  },
  {
   "cell_type": "markdown",
   "metadata": {},
   "source": [
    "Write a function so that the columns of the output matrix are powers of the input\n",
    "vector.\n",
    "The order of the powers is determined by the increasing boolean argument. Specifically, when\n",
    "increasing is False, the i-th output column is the input vector raised element-wise to the power\n",
    "of N - i - 1."
   ]
  },
  {
   "cell_type": "code",
   "execution_count": 1,
   "metadata": {},
   "outputs": [],
   "source": [
    "import numpy as np"
   ]
  },
  {
   "cell_type": "code",
   "execution_count": 2,
   "metadata": {},
   "outputs": [],
   "source": [
    "def Vandermonde(ip_vector,N,increasing=False):\n",
    "    '''\n",
    "    ip_vector => input vector\n",
    "    N=> Total no of column required in op matrix\n",
    "    increasing=>True if order of power increasing and False if order of power is decreasing\n",
    "    '''\n",
    "    if increasing==False:\n",
    "        op_mat = np.array([x**(N-i-1)for x in ip_vector for i in range(N)]).reshape(ip_vector.size,N)\n",
    "    elif increasing==True:\n",
    "        op_mat = np.array([x**i for x in ip_vector for i in range(N)]).reshape(ip_vector.size,N)\n",
    "    return op_mat"
   ]
  },
  {
   "cell_type": "code",
   "execution_count": 3,
   "metadata": {},
   "outputs": [
    {
     "data": {
      "text/plain": [
       "array([[ 1000,   100,    10,     1],\n",
       "       [ 8000,   400,    20,     1],\n",
       "       [27000,   900,    30,     1],\n",
       "       [64000,  1600,    40,     1]])"
      ]
     },
     "execution_count": 3,
     "metadata": {},
     "output_type": "execute_result"
    }
   ],
   "source": [
    "#increasing => False\n",
    "ip_vector = np.array([10,20,30,40])\n",
    "N=4\n",
    "Vandermonde(ip_vector,N)"
   ]
  },
  {
   "cell_type": "code",
   "execution_count": 4,
   "metadata": {},
   "outputs": [
    {
     "data": {
      "text/plain": [
       "array([[    1,    10,   100,  1000],\n",
       "       [    1,    20,   400,  8000],\n",
       "       [    1,    30,   900, 27000],\n",
       "       [    1,    40,  1600, 64000]])"
      ]
     },
     "execution_count": 4,
     "metadata": {},
     "output_type": "execute_result"
    }
   ],
   "source": [
    "#increasing =>True\n",
    "ip_vector = np.array([10,20,30,40])\n",
    "N=4\n",
    "Vandermonde(ip_vector,N,increasing = True)"
   ]
  },
  {
   "cell_type": "markdown",
   "metadata": {},
   "source": [
    "-------------------------------------------------------------------------------------------------------------------------------"
   ]
  },
  {
   "cell_type": "markdown",
   "metadata": {},
   "source": [
    "Write a function to find moving average in an array over a window:\n",
    "\n",
    "Test it over [3, 5, 7, 2, 8, 10, 11, 65, 72, 81, 99, 100, 150] and window of 3."
   ]
  },
  {
   "cell_type": "code",
   "execution_count": 5,
   "metadata": {},
   "outputs": [],
   "source": [
    "def moving_avg(list,k):\n",
    "    '''\n",
    "    moving_avg is a function to find moving average in an array over a window(k)\n",
    "    \n",
    "    list = list of input numbers\n",
    "    k = window\n",
    "    returns output of moving average in an array over a window(k)\n",
    "    '''\n",
    "    n=len(list)\n",
    "    op=[]\n",
    "    for i in range(n-k+1):\n",
    "            res= np.mean(list[i:i+k])\n",
    "            op.append(res)\n",
    "    return np.array(op)"
   ]
  },
  {
   "cell_type": "code",
   "execution_count": 6,
   "metadata": {},
   "outputs": [
    {
     "data": {
      "text/plain": [
       "array([25., 35., 45., 55., 65., 75., 85.])"
      ]
     },
     "execution_count": 6,
     "metadata": {},
     "output_type": "execute_result"
    }
   ],
   "source": [
    "#Testing Function \n",
    "l=[10,20,30,40,50,60,70,80,90,100]\n",
    "k=4\n",
    "moving_avg(l,k)"
   ]
  },
  {
   "cell_type": "code",
   "execution_count": 7,
   "metadata": {},
   "outputs": [
    {
     "data": {
      "text/plain": [
       "array([  5.        ,   4.66666667,   5.66666667,   6.66666667,\n",
       "         9.66666667,  28.66666667,  49.33333333,  72.66666667,\n",
       "        84.        ,  93.33333333, 116.33333333])"
      ]
     },
     "execution_count": 7,
     "metadata": {},
     "output_type": "execute_result"
    }
   ],
   "source": [
    "k=3\n",
    "moving_avg([3, 5, 7, 2, 8, 10, 11, 65, 72, 81, 99, 100, 150],k)"
   ]
  }
 ],
 "metadata": {
  "kernelspec": {
   "display_name": "Python 3",
   "language": "python",
   "name": "python3"
  },
  "language_info": {
   "codemirror_mode": {
    "name": "ipython",
    "version": 3
   },
   "file_extension": ".py",
   "mimetype": "text/x-python",
   "name": "python",
   "nbconvert_exporter": "python",
   "pygments_lexer": "ipython3",
   "version": "3.7.4"
  }
 },
 "nbformat": 4,
 "nbformat_minor": 2
}
