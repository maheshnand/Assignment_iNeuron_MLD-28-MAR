{
 "cells": [
  {
   "cell_type": "markdown",
   "metadata": {},
   "source": [
    "# Assignment 4"
   ]
  },
  {
   "cell_type": "markdown",
   "metadata": {},
   "source": [
    "1.1 Write a Python Program(with class concepts) to find the area of the triangle using the below\n",
    "formula.\n",
    "           \n",
    "           area = (s*(s-a)*(s-b)*(s-c)) ** 0.5\n",
    "           \n",
    "           \n",
    "Function to take the length of the sides of triangle from user should be defined in the parent\n",
    "class and function to calculate the area should be defined in subclass."
   ]
  },
  {
   "cell_type": "code",
   "execution_count": 1,
   "metadata": {},
   "outputs": [
    {
     "name": "stdout",
     "output_type": "stream",
     "text": [
      "Enter first side: 5\n",
      "Enter second side: 4\n",
      "Enter third side: 6\n",
      "area of triangle 9.921567416492215\n"
     ]
    }
   ],
   "source": [
    "class sides_of_triangle:\n",
    "    def __init__(self,a,b,c):\n",
    "        self.a = a\n",
    "        self.b = b\n",
    "        self.c = c\n",
    "        \n",
    "class get_area(sides_of_triangle):        \n",
    "    def __init__(self,*args):\n",
    "        super(get_area,self).__init__(*args)\n",
    "       \n",
    "    def area(self):\n",
    "        a=self.a\n",
    "        b=self.b\n",
    "        c=self.c\n",
    "        s=(a+b+c)/2\n",
    "        area =((s*(s-a)*(s-b)*(s-c)) ** 0.5)\n",
    "        return area\n",
    "\n",
    "side_1=int(input(\"Enter first side: \"))\n",
    "side_2=int(input(\"Enter second side: \"))\n",
    "side_3=int(input(\"Enter third side: \"))\n",
    "\n",
    "ob=get_area(side_1,side_2,side_3)\n",
    "print('area of triangle',ob.area())"
   ]
  },
  {
   "cell_type": "markdown",
   "metadata": {},
   "source": [
    "-------------------------------------------------------------------------------------------------------------------------------"
   ]
  },
  {
   "cell_type": "markdown",
   "metadata": {},
   "source": [
    "1.2 Write a function filter_long_words() that takes a list of words and an integer n and returns the list of words that are longer than n."
   ]
  },
  {
   "cell_type": "code",
   "execution_count": 2,
   "metadata": {},
   "outputs": [],
   "source": [
    "def filter_long_words(list_of_words,number):\n",
    "    '''\n",
    "    Takes a list of words and an integer number and returns the list of words that are longer than number\n",
    "    '''\n",
    "    out_lst=[]\n",
    "    for i in list_of_words:\n",
    "        if len(i)> number:\n",
    "            out_lst.append(i)\n",
    "    return out_lst"
   ]
  },
  {
   "cell_type": "code",
   "execution_count": 3,
   "metadata": {},
   "outputs": [
    {
     "data": {
      "text/plain": [
       "['starts', 'where']"
      ]
     },
     "execution_count": 3,
     "metadata": {},
     "output_type": "execute_result"
    }
   ],
   "source": [
    "#testing function \"filter_long_words\":\n",
    "filter_long_words(['life','starts','where','fear','ends'],4)"
   ]
  },
  {
   "cell_type": "markdown",
   "metadata": {},
   "source": [
    "-------------------------------------------------------------------------------------------------------------------------------"
   ]
  },
  {
   "cell_type": "markdown",
   "metadata": {},
   "source": [
    "2.1 Write a Python program using function concept that maps list of words into a list of integers representing the lengths of the corresponding words.\n",
    "\n",
    "Hint: If a list [ ab,cde,erty] is passed on to the python function output should come as [2,3,4]\n",
    "\n",
    "Here 2,3 and 4 are the lengths of the words in the list."
   ]
  },
  {
   "cell_type": "code",
   "execution_count": 4,
   "metadata": {},
   "outputs": [],
   "source": [
    "def len_words(list_of_word):\n",
    "    '''\n",
    "    Enter list of words.\n",
    "    maps list of words into a list of integers representing the lengths of the corresponding words\n",
    "    eg---> len_words(['life','never','pause'])\n",
    "            >[4,5,5]\n",
    "    \n",
    "    '''\n",
    "    op_lst=[]\n",
    "    for i in list_of_word:\n",
    "        a=len(i)\n",
    "        op_lst.append(a)\n",
    "    return op_lst"
   ]
  },
  {
   "cell_type": "code",
   "execution_count": 5,
   "metadata": {},
   "outputs": [
    {
     "data": {
      "text/plain": [
       "[8, 3, 4, 3, 6, 2, 2, 4, 14]"
      ]
     },
     "execution_count": 5,
     "metadata": {},
     "output_type": "execute_result"
    }
   ],
   "source": [
    "#testing function \"len_words\":\n",
    "lst = ['whatever','you','feel','you','become','it','is','your','responsibility']\n",
    "len_words(lst)"
   ]
  },
  {
   "cell_type": "markdown",
   "metadata": {},
   "source": [
    "-------------------------------------------------------------------------------------------------------------------------------"
   ]
  },
  {
   "cell_type": "markdown",
   "metadata": {},
   "source": [
    "2.2 Write a Python function which takes a character (i.e. a string of length 1) and returns True if\n",
    "it is a vowel, False otherwise."
   ]
  },
  {
   "cell_type": "code",
   "execution_count": 6,
   "metadata": {},
   "outputs": [],
   "source": [
    "def chk_vowel(char):\n",
    "    \"\"\"\n",
    "    Enter a Charecter \n",
    "    it will return True if entered charecter is vowel\n",
    "    eg.--> chk_vowel('E')\n",
    "            >True\n",
    "    \"\"\"\n",
    "    return char in 'aeiouAEIOU'"
   ]
  },
  {
   "cell_type": "code",
   "execution_count": 7,
   "metadata": {},
   "outputs": [
    {
     "data": {
      "text/plain": [
       "True"
      ]
     },
     "execution_count": 7,
     "metadata": {},
     "output_type": "execute_result"
    }
   ],
   "source": [
    "chk_vowel(\"a\")"
   ]
  },
  {
   "cell_type": "markdown",
   "metadata": {},
   "source": [
    "--------------OR--------------------"
   ]
  },
  {
   "cell_type": "code",
   "execution_count": 8,
   "metadata": {},
   "outputs": [],
   "source": [
    "def check_vowel(char):\n",
    "    \"\"\"\n",
    "    Enter a Charecter \n",
    "    it will return True if entered charecter is vowel\n",
    "    eg.--> check_vowel('a')\n",
    "           >True\n",
    "    \"\"\"\n",
    "    return  False if 'AEIOUaeiou'.find(char) == -1 else True\n",
    "    "
   ]
  },
  {
   "cell_type": "code",
   "execution_count": 9,
   "metadata": {},
   "outputs": [
    {
     "data": {
      "text/plain": [
       "False"
      ]
     },
     "execution_count": 9,
     "metadata": {},
     "output_type": "execute_result"
    }
   ],
   "source": [
    "check_vowel('f')"
   ]
  }
 ],
 "metadata": {
  "kernelspec": {
   "display_name": "Python 3",
   "language": "python",
   "name": "python3"
  },
  "language_info": {
   "codemirror_mode": {
    "name": "ipython",
    "version": 3
   },
   "file_extension": ".py",
   "mimetype": "text/x-python",
   "name": "python",
   "nbconvert_exporter": "python",
   "pygments_lexer": "ipython3",
   "version": "3.7.4"
  }
 },
 "nbformat": 4,
 "nbformat_minor": 2
}
